{
 "cells": [
  {
   "cell_type": "markdown",
   "metadata": {},
   "source": [
    "# Recommendation Engine"
   ]
  },
  {
   "cell_type": "code",
   "execution_count": 16,
   "metadata": {
    "collapsed": true
   },
   "outputs": [],
   "source": [
    "import pandas as pd\n",
    "import numpy as np\n",
    "import matplotlib.pyplot as plt\n"
   ]
  },
  {
   "cell_type": "code",
   "execution_count": 21,
   "metadata": {},
   "outputs": [
    {
     "data": {
      "text/html": [
       "<div>\n",
       "<style scoped>\n",
       "    .dataframe tbody tr th:only-of-type {\n",
       "        vertical-align: middle;\n",
       "    }\n",
       "\n",
       "    .dataframe tbody tr th {\n",
       "        vertical-align: top;\n",
       "    }\n",
       "\n",
       "    .dataframe thead th {\n",
       "        text-align: right;\n",
       "    }\n",
       "</style>\n",
       "<table border=\"1\" class=\"dataframe\">\n",
       "  <thead>\n",
       "    <tr style=\"text-align: right;\">\n",
       "      <th></th>\n",
       "      <th>userId</th>\n",
       "      <th>movieId</th>\n",
       "      <th>rating</th>\n",
       "      <th>timestamp</th>\n",
       "    </tr>\n",
       "  </thead>\n",
       "  <tbody>\n",
       "    <tr>\n",
       "      <th>0</th>\n",
       "      <td>1</td>\n",
       "      <td>31</td>\n",
       "      <td>2.5</td>\n",
       "      <td>1260759144</td>\n",
       "    </tr>\n",
       "    <tr>\n",
       "      <th>1</th>\n",
       "      <td>1</td>\n",
       "      <td>1029</td>\n",
       "      <td>3.0</td>\n",
       "      <td>1260759179</td>\n",
       "    </tr>\n",
       "    <tr>\n",
       "      <th>2</th>\n",
       "      <td>1</td>\n",
       "      <td>1061</td>\n",
       "      <td>3.0</td>\n",
       "      <td>1260759182</td>\n",
       "    </tr>\n",
       "    <tr>\n",
       "      <th>3</th>\n",
       "      <td>1</td>\n",
       "      <td>1129</td>\n",
       "      <td>2.0</td>\n",
       "      <td>1260759185</td>\n",
       "    </tr>\n",
       "    <tr>\n",
       "      <th>4</th>\n",
       "      <td>1</td>\n",
       "      <td>1172</td>\n",
       "      <td>4.0</td>\n",
       "      <td>1260759205</td>\n",
       "    </tr>\n",
       "  </tbody>\n",
       "</table>\n",
       "</div>"
      ],
      "text/plain": [
       "   userId  movieId  rating   timestamp\n",
       "0       1       31     2.5  1260759144\n",
       "1       1     1029     3.0  1260759179\n",
       "2       1     1061     3.0  1260759182\n",
       "3       1     1129     2.0  1260759185\n",
       "4       1     1172     4.0  1260759205"
      ]
     },
     "execution_count": 21,
     "metadata": {},
     "output_type": "execute_result"
    }
   ],
   "source": [
    "\n",
    "ratings = pd.read_csv(\"/home/kolade/Documents/Datasets/ratings.csv\")\n",
    "ratings.head()\n",
    "\n"
   ]
  },
  {
   "cell_type": "code",
   "execution_count": 20,
   "metadata": {},
   "outputs": [
    {
     "data": {
      "text/html": [
       "<div>\n",
       "<style scoped>\n",
       "    .dataframe tbody tr th:only-of-type {\n",
       "        vertical-align: middle;\n",
       "    }\n",
       "\n",
       "    .dataframe tbody tr th {\n",
       "        vertical-align: top;\n",
       "    }\n",
       "\n",
       "    .dataframe thead th {\n",
       "        text-align: right;\n",
       "    }\n",
       "</style>\n",
       "<table border=\"1\" class=\"dataframe\">\n",
       "  <thead>\n",
       "    <tr style=\"text-align: right;\">\n",
       "      <th></th>\n",
       "      <th>movieId</th>\n",
       "      <th>title</th>\n",
       "      <th>genres</th>\n",
       "    </tr>\n",
       "  </thead>\n",
       "  <tbody>\n",
       "    <tr>\n",
       "      <th>0</th>\n",
       "      <td>1</td>\n",
       "      <td>Toy Story (1995)</td>\n",
       "      <td>Adventure|Animation|Children|Comedy|Fantasy</td>\n",
       "    </tr>\n",
       "    <tr>\n",
       "      <th>1</th>\n",
       "      <td>2</td>\n",
       "      <td>Jumanji (1995)</td>\n",
       "      <td>Adventure|Children|Fantasy</td>\n",
       "    </tr>\n",
       "    <tr>\n",
       "      <th>2</th>\n",
       "      <td>3</td>\n",
       "      <td>Grumpier Old Men (1995)</td>\n",
       "      <td>Comedy|Romance</td>\n",
       "    </tr>\n",
       "    <tr>\n",
       "      <th>3</th>\n",
       "      <td>4</td>\n",
       "      <td>Waiting to Exhale (1995)</td>\n",
       "      <td>Comedy|Drama|Romance</td>\n",
       "    </tr>\n",
       "    <tr>\n",
       "      <th>4</th>\n",
       "      <td>5</td>\n",
       "      <td>Father of the Bride Part II (1995)</td>\n",
       "      <td>Comedy</td>\n",
       "    </tr>\n",
       "  </tbody>\n",
       "</table>\n",
       "</div>"
      ],
      "text/plain": [
       "   movieId                               title  \\\n",
       "0        1                    Toy Story (1995)   \n",
       "1        2                      Jumanji (1995)   \n",
       "2        3             Grumpier Old Men (1995)   \n",
       "3        4            Waiting to Exhale (1995)   \n",
       "4        5  Father of the Bride Part II (1995)   \n",
       "\n",
       "                                        genres  \n",
       "0  Adventure|Animation|Children|Comedy|Fantasy  \n",
       "1                   Adventure|Children|Fantasy  \n",
       "2                               Comedy|Romance  \n",
       "3                         Comedy|Drama|Romance  \n",
       "4                                       Comedy  "
      ]
     },
     "execution_count": 20,
     "metadata": {},
     "output_type": "execute_result"
    }
   ],
   "source": [
    "movies = pd.read_csv(\"/home/kolade/Documents/Datasets/movies.csv\")\n",
    "movies.head()"
   ]
  },
  {
   "cell_type": "code",
   "execution_count": 22,
   "metadata": {},
   "outputs": [
    {
     "name": "stderr",
     "output_type": "stream",
     "text": [
      "/home/kolade/anaconda3/lib/python3.6/site-packages/ipykernel_launcher.py:10: FutureWarning: Method .as_matrix will be removed in a future version. Use .values instead.\n",
      "  # Remove the CWD from sys.path while we load stuff.\n"
     ]
    }
   ],
   "source": [
    "#Combining movie ratings & movie names\n",
    "ratings = pd.merge(ratings[['userId','movieId','rating']],movies[['movieId','title']],\n",
    "                   how='left',left_on ='movieId' ,right_on = 'movieId')\n",
    "\n",
    "\n",
    "rp = ratings.pivot_table(columns = ['movieId'],index = ['userId'],values = 'rating')\n",
    "rp = rp.fillna(0)\n",
    "\n",
    "# Converting pandas dataframe to numpy for faster execution in loops etc.\n",
    "rp_mat = rp.as_matrix()\n"
   ]
  },
  {
   "cell_type": "code",
   "execution_count": 24,
   "metadata": {},
   "outputs": [
    {
     "data": {
      "text/plain": [
       "numpy.ndarray"
      ]
     },
     "execution_count": 24,
     "metadata": {},
     "output_type": "execute_result"
    }
   ],
   "source": [
    "type(rp_mat)"
   ]
  },
  {
   "cell_type": "markdown",
   "metadata": {},
   "source": [
    "### Content Based Filtering"
   ]
  },
  {
   "cell_type": "markdown",
   "metadata": {},
   "source": [
    "####  Cosine Similarity"
   ]
  },
  {
   "cell_type": "code",
   "execution_count": 25,
   "metadata": {},
   "outputs": [
    {
     "name": "stdout",
     "output_type": "stream",
     "text": [
      "\n",
      "\n",
      "\n",
      "Cosine similarity between A and B is 0.8216\n"
     ]
    }
   ],
   "source": [
    "from scipy.spatial.distance import cosine\n",
    "\n",
    "\n",
    "#The cosine of the angle between them is about 0.822.\n",
    "a= np.asarray( [2, 1, 0, 2, 0, 1, 1, 1])\n",
    "b = np.asarray( [2, 1, 1, 1, 1, 0, 1, 1])\n",
    "\n",
    "print(\"\\n\\n\")\n",
    "print (\"Cosine similarity between A and B is\",round(1-cosine(a,b),4))\n"
   ]
  },
  {
   "cell_type": "code",
   "execution_count": 29,
   "metadata": {
    "collapsed": true
   },
   "outputs": [],
   "source": [
    "# User similarity matrix\n",
    "mat_users = np.zeros((m, m))\n",
    "for i in range(m):\n",
    "    for j in range(m):\n",
    "        if i != j:\n",
    "            mat_users[i][j] = (1- cosine(rp_mat[i,:], rp_mat[j,:]))\n",
    "        else:\n",
    "            mat_users[i][j] = 0.\n",
    "            \n",
    "pd_users = pd.DataFrame(mat_users,index =rp.index ,columns= rp.index )"
   ]
  },
  {
   "cell_type": "code",
   "execution_count": 30,
   "metadata": {
    "collapsed": true
   },
   "outputs": [],
   "source": [
    "m, n = rp.shape"
   ]
  },
  {
   "cell_type": "code",
   "execution_count": 34,
   "metadata": {},
   "outputs": [
    {
     "name": "stdout",
     "output_type": "stream",
     "text": [
      "Similar users as user: 17\n"
     ]
    },
    {
     "data": {
      "text/html": [
       "<div>\n",
       "<style scoped>\n",
       "    .dataframe tbody tr th:only-of-type {\n",
       "        vertical-align: middle;\n",
       "    }\n",
       "\n",
       "    .dataframe tbody tr th {\n",
       "        vertical-align: top;\n",
       "    }\n",
       "\n",
       "    .dataframe thead th {\n",
       "        text-align: right;\n",
       "    }\n",
       "</style>\n",
       "<table border=\"1\" class=\"dataframe\">\n",
       "  <thead>\n",
       "    <tr style=\"text-align: right;\">\n",
       "      <th></th>\n",
       "      <th>score</th>\n",
       "    </tr>\n",
       "    <tr>\n",
       "      <th>userId</th>\n",
       "      <th></th>\n",
       "    </tr>\n",
       "  </thead>\n",
       "  <tbody>\n",
       "    <tr>\n",
       "      <th>596</th>\n",
       "      <td>0.379128</td>\n",
       "    </tr>\n",
       "    <tr>\n",
       "      <th>23</th>\n",
       "      <td>0.374641</td>\n",
       "    </tr>\n",
       "    <tr>\n",
       "      <th>355</th>\n",
       "      <td>0.329605</td>\n",
       "    </tr>\n",
       "    <tr>\n",
       "      <th>430</th>\n",
       "      <td>0.328872</td>\n",
       "    </tr>\n",
       "    <tr>\n",
       "      <th>608</th>\n",
       "      <td>0.319770</td>\n",
       "    </tr>\n",
       "    <tr>\n",
       "      <th>509</th>\n",
       "      <td>0.319313</td>\n",
       "    </tr>\n",
       "    <tr>\n",
       "      <th>105</th>\n",
       "      <td>0.309477</td>\n",
       "    </tr>\n",
       "    <tr>\n",
       "      <th>457</th>\n",
       "      <td>0.308201</td>\n",
       "    </tr>\n",
       "    <tr>\n",
       "      <th>15</th>\n",
       "      <td>0.307179</td>\n",
       "    </tr>\n",
       "    <tr>\n",
       "      <th>461</th>\n",
       "      <td>0.299035</td>\n",
       "    </tr>\n",
       "  </tbody>\n",
       "</table>\n",
       "</div>"
      ],
      "text/plain": [
       "           score\n",
       "userId          \n",
       "596     0.379128\n",
       "23      0.374641\n",
       "355     0.329605\n",
       "430     0.328872\n",
       "608     0.319770\n",
       "509     0.319313\n",
       "105     0.309477\n",
       "457     0.308201\n",
       "15      0.307179\n",
       "461     0.299035"
      ]
     },
     "execution_count": 34,
     "metadata": {},
     "output_type": "execute_result"
    }
   ],
   "source": [
    "# Finding similar users\n",
    "def topn_simusers(uid = 16,n=5):\n",
    "    users = pd_users.loc[uid,:].sort_values(ascending = False)\n",
    "    topn_users = users.iloc[:n,]\n",
    "    topn_users = topn_users.rename('score')    \n",
    "    print (\"Similar users as user:\",uid)\n",
    "    return pd.DataFrame(topn_users)\n",
    "\n",
    "topn_simusers(uid=17,n=10) \n"
   ]
  },
  {
   "cell_type": "code",
   "execution_count": 33,
   "metadata": {},
   "outputs": [
    {
     "name": "stdout",
     "output_type": "stream",
     "text": [
      "Top 10 movie ratings of user: 596\n"
     ]
    },
    {
     "data": {
      "text/html": [
       "<div>\n",
       "<style scoped>\n",
       "    .dataframe tbody tr th:only-of-type {\n",
       "        vertical-align: middle;\n",
       "    }\n",
       "\n",
       "    .dataframe tbody tr th {\n",
       "        vertical-align: top;\n",
       "    }\n",
       "\n",
       "    .dataframe thead th {\n",
       "        text-align: right;\n",
       "    }\n",
       "</style>\n",
       "<table border=\"1\" class=\"dataframe\">\n",
       "  <thead>\n",
       "    <tr style=\"text-align: right;\">\n",
       "      <th></th>\n",
       "      <th>userId</th>\n",
       "      <th>movieId</th>\n",
       "      <th>rating</th>\n",
       "      <th>title</th>\n",
       "    </tr>\n",
       "  </thead>\n",
       "  <tbody>\n",
       "    <tr>\n",
       "      <th>89645</th>\n",
       "      <td>596</td>\n",
       "      <td>4262</td>\n",
       "      <td>5.0</td>\n",
       "      <td>Scarface (1983)</td>\n",
       "    </tr>\n",
       "    <tr>\n",
       "      <th>89732</th>\n",
       "      <td>596</td>\n",
       "      <td>6874</td>\n",
       "      <td>5.0</td>\n",
       "      <td>Kill Bill: Vol. 1 (2003)</td>\n",
       "    </tr>\n",
       "    <tr>\n",
       "      <th>89353</th>\n",
       "      <td>596</td>\n",
       "      <td>194</td>\n",
       "      <td>5.0</td>\n",
       "      <td>Smoke (1995)</td>\n",
       "    </tr>\n",
       "    <tr>\n",
       "      <th>89546</th>\n",
       "      <td>596</td>\n",
       "      <td>2329</td>\n",
       "      <td>5.0</td>\n",
       "      <td>American History X (1998)</td>\n",
       "    </tr>\n",
       "    <tr>\n",
       "      <th>89453</th>\n",
       "      <td>596</td>\n",
       "      <td>1193</td>\n",
       "      <td>5.0</td>\n",
       "      <td>One Flew Over the Cuckoo's Nest (1975)</td>\n",
       "    </tr>\n",
       "    <tr>\n",
       "      <th>89751</th>\n",
       "      <td>596</td>\n",
       "      <td>8132</td>\n",
       "      <td>5.0</td>\n",
       "      <td>Gladiator (1992)</td>\n",
       "    </tr>\n",
       "    <tr>\n",
       "      <th>89579</th>\n",
       "      <td>596</td>\n",
       "      <td>2858</td>\n",
       "      <td>5.0</td>\n",
       "      <td>American Beauty (1999)</td>\n",
       "    </tr>\n",
       "    <tr>\n",
       "      <th>89365</th>\n",
       "      <td>596</td>\n",
       "      <td>296</td>\n",
       "      <td>5.0</td>\n",
       "      <td>Pulp Fiction (1994)</td>\n",
       "    </tr>\n",
       "    <tr>\n",
       "      <th>89587</th>\n",
       "      <td>596</td>\n",
       "      <td>2959</td>\n",
       "      <td>5.0</td>\n",
       "      <td>Fight Club (1999)</td>\n",
       "    </tr>\n",
       "    <tr>\n",
       "      <th>89368</th>\n",
       "      <td>596</td>\n",
       "      <td>318</td>\n",
       "      <td>5.0</td>\n",
       "      <td>Shawshank Redemption, The (1994)</td>\n",
       "    </tr>\n",
       "  </tbody>\n",
       "</table>\n",
       "</div>"
      ],
      "text/plain": [
       "       userId  movieId  rating                                   title\n",
       "89645     596     4262     5.0                         Scarface (1983)\n",
       "89732     596     6874     5.0                Kill Bill: Vol. 1 (2003)\n",
       "89353     596      194     5.0                            Smoke (1995)\n",
       "89546     596     2329     5.0               American History X (1998)\n",
       "89453     596     1193     5.0  One Flew Over the Cuckoo's Nest (1975)\n",
       "89751     596     8132     5.0                        Gladiator (1992)\n",
       "89579     596     2858     5.0                  American Beauty (1999)\n",
       "89365     596      296     5.0                     Pulp Fiction (1994)\n",
       "89587     596     2959     5.0                       Fight Club (1999)\n",
       "89368     596      318     5.0        Shawshank Redemption, The (1994)"
      ]
     },
     "execution_count": 33,
     "metadata": {},
     "output_type": "execute_result"
    }
   ],
   "source": [
    "# Finding most rated movies of a user\n",
    "def topn_movieratings(uid = 355,n_ratings=10):    \n",
    "    uid_ratings = ratings.loc[ratings['userId']==uid]\n",
    "    uid_ratings = uid_ratings.sort_values(by='rating',ascending = [False])\n",
    "    print (\"Top\",n_ratings ,\"movie ratings of user:\",uid)\n",
    "    return uid_ratings.iloc[:n_ratings,]    \n",
    "\n",
    "topn_movieratings(uid=596,n_ratings=10)"
   ]
  },
  {
   "cell_type": "code",
   "execution_count": 41,
   "metadata": {},
   "outputs": [
    {
     "name": "stdout",
     "output_type": "stream",
     "text": [
      "--- 3808.587711572647 seconds ---\n"
     ]
    }
   ],
   "source": [
    "#DO NOT RUN\n",
    "#DO NOT RUN\n",
    "#DO NOT RUN\n",
    "#DO NOT RUN\n",
    "\n",
    "# Movie similarity matrix\n",
    "\n",
    "import time\n",
    "start_time = time.time()\n",
    "mat_movies = np.zeros((n, n))\n",
    "\n",
    "for i in range(n):\n",
    "    for j in range(n):\n",
    "        if i!=j:\n",
    "            mat_movies[i,j] = (1- cosine(rp_mat[:,i], rp_mat[:,j]))\n",
    "        else:\n",
    "            mat_movies[i,j] = 0.\n",
    "print(\"--- %s seconds ---\" % (time.time() - start_time))\n",
    "\n"
   ]
  },
  {
   "cell_type": "code",
   "execution_count": null,
   "metadata": {
    "collapsed": true
   },
   "outputs": [],
   "source": []
  },
  {
   "cell_type": "code",
   "execution_count": 46,
   "metadata": {
    "collapsed": true
   },
   "outputs": [],
   "source": [
    "pd_movies = pd.DataFrame(mat_movies,index =rp.columns ,columns= rp.columns )\n",
    "\n",
    "\n",
    "pd_movies.to_csv(r'/home/kolade/Documents/Datasets/pd_movies.csv',sep=',')\n",
    "\n",
    "    "
   ]
  },
  {
   "cell_type": "code",
   "execution_count": 48,
   "metadata": {
    "collapsed": true
   },
   "outputs": [],
   "source": [
    "pd_movies = pd.read_csv(r'/home/kolade/Documents/Datasets/pd_movies.csv',index_col='movieId')"
   ]
  },
  {
   "cell_type": "code",
   "execution_count": 49,
   "metadata": {
    "collapsed": true
   },
   "outputs": [],
   "source": [
    "\n",
    "# Finding similar movies\n",
    "def topn_simovies(mid = 588,n=15):\n",
    "    mid_ratings = pd_movies.loc[mid,:].sort_values(ascending = False)\n",
    "    topn_movies = pd.DataFrame(mid_ratings.iloc[:n,])\n",
    "    topn_movies['index1'] = topn_movies.index\n",
    "    topn_movies['index1'] = topn_movies['index1'].astype('int64')\n",
    "    topn_movies = pd.merge(topn_movies,movies[['movieId','title']],how = 'left',left_on ='index1' ,right_on = 'movieId')\n",
    "    print (\"Movies similar to movie id:\",mid,\",\",movies['title'][movies['movieId']==mid].to_string(index=False),\",are\")\n",
    "    del topn_movies['index1']\n",
    "    return topn_movies\n"
   ]
  },
  {
   "cell_type": "code",
   "execution_count": 50,
   "metadata": {},
   "outputs": [
    {
     "name": "stdout",
     "output_type": "stream",
     "text": [
      "Movies similar to movie id: 589 , Terminator 2: Judgment Day (1991) ,are\n"
     ]
    },
    {
     "data": {
      "text/html": [
       "<div>\n",
       "<style scoped>\n",
       "    .dataframe tbody tr th:only-of-type {\n",
       "        vertical-align: middle;\n",
       "    }\n",
       "\n",
       "    .dataframe tbody tr th {\n",
       "        vertical-align: top;\n",
       "    }\n",
       "\n",
       "    .dataframe thead th {\n",
       "        text-align: right;\n",
       "    }\n",
       "</style>\n",
       "<table border=\"1\" class=\"dataframe\">\n",
       "  <thead>\n",
       "    <tr style=\"text-align: right;\">\n",
       "      <th></th>\n",
       "      <th>589</th>\n",
       "      <th>movieId</th>\n",
       "      <th>title</th>\n",
       "    </tr>\n",
       "  </thead>\n",
       "  <tbody>\n",
       "    <tr>\n",
       "      <th>0</th>\n",
       "      <td>0.702256</td>\n",
       "      <td>480</td>\n",
       "      <td>Jurassic Park (1993)</td>\n",
       "    </tr>\n",
       "    <tr>\n",
       "      <th>1</th>\n",
       "      <td>0.636392</td>\n",
       "      <td>1240</td>\n",
       "      <td>Terminator, The (1984)</td>\n",
       "    </tr>\n",
       "    <tr>\n",
       "      <th>2</th>\n",
       "      <td>0.633428</td>\n",
       "      <td>110</td>\n",
       "      <td>Braveheart (1995)</td>\n",
       "    </tr>\n",
       "    <tr>\n",
       "      <th>3</th>\n",
       "      <td>0.619415</td>\n",
       "      <td>356</td>\n",
       "      <td>Forrest Gump (1994)</td>\n",
       "    </tr>\n",
       "    <tr>\n",
       "      <th>4</th>\n",
       "      <td>0.614814</td>\n",
       "      <td>377</td>\n",
       "      <td>Speed (1994)</td>\n",
       "    </tr>\n",
       "    <tr>\n",
       "      <th>5</th>\n",
       "      <td>0.605887</td>\n",
       "      <td>380</td>\n",
       "      <td>True Lies (1994)</td>\n",
       "    </tr>\n",
       "    <tr>\n",
       "      <th>6</th>\n",
       "      <td>0.604555</td>\n",
       "      <td>457</td>\n",
       "      <td>Fugitive, The (1993)</td>\n",
       "    </tr>\n",
       "    <tr>\n",
       "      <th>7</th>\n",
       "      <td>0.591071</td>\n",
       "      <td>593</td>\n",
       "      <td>Silence of the Lambs, The (1991)</td>\n",
       "    </tr>\n",
       "    <tr>\n",
       "      <th>8</th>\n",
       "      <td>0.579325</td>\n",
       "      <td>367</td>\n",
       "      <td>Mask, The (1994)</td>\n",
       "    </tr>\n",
       "    <tr>\n",
       "      <th>9</th>\n",
       "      <td>0.577299</td>\n",
       "      <td>1036</td>\n",
       "      <td>Die Hard (1988)</td>\n",
       "    </tr>\n",
       "    <tr>\n",
       "      <th>10</th>\n",
       "      <td>0.576275</td>\n",
       "      <td>592</td>\n",
       "      <td>Batman (1989)</td>\n",
       "    </tr>\n",
       "    <tr>\n",
       "      <th>11</th>\n",
       "      <td>0.568341</td>\n",
       "      <td>296</td>\n",
       "      <td>Pulp Fiction (1994)</td>\n",
       "    </tr>\n",
       "    <tr>\n",
       "      <th>12</th>\n",
       "      <td>0.564779</td>\n",
       "      <td>1196</td>\n",
       "      <td>Star Wars: Episode V - The Empire Strikes Back...</td>\n",
       "    </tr>\n",
       "    <tr>\n",
       "      <th>13</th>\n",
       "      <td>0.562415</td>\n",
       "      <td>260</td>\n",
       "      <td>Star Wars: Episode IV - A New Hope (1977)</td>\n",
       "    </tr>\n",
       "    <tr>\n",
       "      <th>14</th>\n",
       "      <td>0.553626</td>\n",
       "      <td>47</td>\n",
       "      <td>Seven (a.k.a. Se7en) (1995)</td>\n",
       "    </tr>\n",
       "  </tbody>\n",
       "</table>\n",
       "</div>"
      ],
      "text/plain": [
       "         589  movieId                                              title\n",
       "0   0.702256      480                               Jurassic Park (1993)\n",
       "1   0.636392     1240                             Terminator, The (1984)\n",
       "2   0.633428      110                                  Braveheart (1995)\n",
       "3   0.619415      356                                Forrest Gump (1994)\n",
       "4   0.614814      377                                       Speed (1994)\n",
       "5   0.605887      380                                   True Lies (1994)\n",
       "6   0.604555      457                               Fugitive, The (1993)\n",
       "7   0.591071      593                   Silence of the Lambs, The (1991)\n",
       "8   0.579325      367                                   Mask, The (1994)\n",
       "9   0.577299     1036                                    Die Hard (1988)\n",
       "10  0.576275      592                                      Batman (1989)\n",
       "11  0.568341      296                                Pulp Fiction (1994)\n",
       "12  0.564779     1196  Star Wars: Episode V - The Empire Strikes Back...\n",
       "13  0.562415      260          Star Wars: Episode IV - A New Hope (1977)\n",
       "14  0.553626       47                        Seven (a.k.a. Se7en) (1995)"
      ]
     },
     "execution_count": 50,
     "metadata": {},
     "output_type": "execute_result"
    }
   ],
   "source": [
    "topn_simovies(mid=589,n=15)"
   ]
  },
  {
   "cell_type": "markdown",
   "metadata": {},
   "source": [
    "### Collaborative filtering using ALS"
   ]
  },
  {
   "cell_type": "code",
   "execution_count": 51,
   "metadata": {},
   "outputs": [
    {
     "name": "stdout",
     "output_type": "stream",
     "text": [
      "\n",
      "Shape of Original Sparse Matrix (671, 9066)\n"
     ]
    }
   ],
   "source": [
    "\n",
    "rp = ratings.pivot_table(columns = ['movieId'],index = ['userId'],values = 'rating')\n",
    "rp = rp.fillna(0)\n",
    "\n",
    "A = rp.values\n",
    "\n",
    "print (\"\\nShape of Original Sparse Matrix\",A.shape)\n"
   ]
  },
  {
   "cell_type": "code",
   "execution_count": 52,
   "metadata": {
    "collapsed": true
   },
   "outputs": [],
   "source": [
    "\n",
    "\n",
    "W = A>0.5\n",
    "W[W==True]=1\n",
    "W[W==False]=0\n",
    "W = W.astype(np.float64,copy=False)\n",
    "\n",
    "\n",
    "W_pred = A<0.5\n",
    "W_pred[W_pred==True]=1\n",
    "W_pred[W_pred==False]=0\n",
    "W_pred = W_pred.astype(np.float64,copy=False)\n",
    "np.fill_diagonal(W_pred,val=0)\n"
   ]
  },
  {
   "cell_type": "code",
   "execution_count": 53,
   "metadata": {
    "collapsed": true
   },
   "outputs": [],
   "source": [
    "# Parameters\n",
    "m,n = A.shape\n",
    "\n",
    "n_iterations = 200\n",
    "n_factors = 100\n",
    "lmbda = 0.1\n",
    "\n",
    "X = 5 * np.random.rand(m,n_factors)\n",
    "Y = 5* np.random.rand(n_factors,n)\n"
   ]
  },
  {
   "cell_type": "code",
   "execution_count": 54,
   "metadata": {
    "collapsed": true
   },
   "outputs": [],
   "source": [
    "\n",
    "\n",
    "def get_error(A, X, Y, W):\n",
    "    return np.sqrt(np.sum((W * (A - np.dot(X, Y)))**2)/np.sum(W))\n"
   ]
  },
  {
   "cell_type": "code",
   "execution_count": 55,
   "metadata": {},
   "outputs": [
    {
     "name": "stdout",
     "output_type": "stream",
     "text": [
      "0  iterations completed RMSError value is: 3.208884896395556\n",
      "10  iterations completed RMSError value is: 1.7180512960063081\n",
      "20  iterations completed RMSError value is: 1.7077357029445945\n",
      "30  iterations completed RMSError value is: 1.7036891103508633\n",
      "40  iterations completed RMSError value is: 1.701539221691601\n",
      "50  iterations completed RMSError value is: 1.7002188070822677\n",
      "60  iterations completed RMSError value is: 1.6993302542517335\n",
      "70  iterations completed RMSError value is: 1.6986890211571088\n",
      "80  iterations completed RMSError value is: 1.6981981098549535\n",
      "90  iterations completed RMSError value is: 1.697804633659468\n",
      "100  iterations completed RMSError value is: 1.6974791817363892\n",
      "110  iterations completed RMSError value is: 1.6972044895274285\n",
      "120  iterations completed RMSError value is: 1.6969695234205653\n",
      "130  iterations completed RMSError value is: 1.6967666083261992\n",
      "140  iterations completed RMSError value is: 1.6965900585353724\n",
      "150  iterations completed RMSError value is: 1.696435492270961\n",
      "160  iterations completed RMSError value is: 1.6962994522876773\n",
      "170  iterations completed RMSError value is: 1.6961791703365163\n",
      "180  iterations completed RMSError value is: 1.696072406404286\n",
      "190  iterations completed RMSError value is: 1.695977331852391\n"
     ]
    }
   ],
   "source": [
    "errors = []\n",
    "for itr in range(n_iterations):\n",
    "    X = np.linalg.solve(np.dot(Y,Y.T)+ lmbda * np.eye(n_factors),np.dot(Y,A.T)).T\n",
    "    Y = np.linalg.solve(np.dot(X.T,X)+ lmbda * np.eye(n_factors),np.dot(X.T,A))\n",
    "    \n",
    "    if itr%10 == 0:\n",
    "        print(itr,\" iterations completed\",\"RMSError value is:\",get_error(A,X,Y,W))\n",
    "                 \n",
    "    errors.append(get_error(A,X,Y,W))"
   ]
  },
  {
   "cell_type": "code",
   "execution_count": 56,
   "metadata": {},
   "outputs": [
    {
     "name": "stdout",
     "output_type": "stream",
     "text": [
      "RMSError of rated movies:  1.6959005094089852\n"
     ]
    },
    {
     "data": {
      "image/png": "[encoded data removed]",
      "text/plain": [
       "<Figure size 432x288 with 1 Axes>"
      ]
     },
     "metadata": {
      "needs_background": "light"
     },
     "output_type": "display_data"
    }
   ],
   "source": [
    "A_hat = np.dot(X,Y)\n",
    "print (\"RMSError of rated movies: \",get_error(A,X,Y,W))\n",
    "    \n",
    "\n",
    "plt.plot(errors);\n",
    "plt.ylim([0, 3.5]);\n",
    "plt.xlabel(\"Number of Iterations\");plt.ylabel(\"RMSE\")\n",
    "#plt.title(\"No.of Iterations vs. RMSE\")\n",
    "plt.show()\n",
    "\n",
    "\n",
    "\n"
   ]
  },
  {
   "cell_type": "code",
   "execution_count": 57,
   "metadata": {},
   "outputs": [
    {
     "name": "stdout",
     "output_type": "stream",
     "text": [
      "\n",
      "Top 10 movies predicted for the user: 355  based on collaborative filtering\n",
      "\n",
      "   pred_ratings  movieId                                title\n",
      "0      2.472826     1923  There's Something About Mary (1998)\n",
      "1      2.282529     1213                    Goodfellas (1990)\n",
      "2      2.225793     5010               Black Hawk Down (2001)\n",
      "3      2.132180     1197           Princess Bride, The (1987)\n",
      "4      1.954779     2987      Who Framed Roger Rabbit? (1988)\n",
      "5      1.940477     8798                    Collateral (2004)\n",
      "6      1.940202     8622               Fahrenheit 9/11 (2004)\n",
      "7      1.884670     5903                   Equilibrium (2002)\n",
      "8      1.877320     8957                           Saw (2004)\n",
      "9      1.834860     3702                       Mad Max (1979)\n"
     ]
    }
   ],
   "source": [
    "def print_recommovies(uid=315,n_movies=15,pred_mat = A_hat,wpred_mat = W_pred ):\n",
    "    pred_recos = pred_mat*wpred_mat\n",
    "    pd_predrecos = pd.DataFrame(pred_recos,index =rp.index ,columns= rp.columns )\n",
    "    pred_ratings = pd_predrecos.loc[uid,:].sort_values(ascending = False)\n",
    "    pred_topratings = pred_ratings[:n_movies,]\n",
    "    pred_topratings = pred_topratings.rename('pred_ratings')  \n",
    "    pred_topratings = pd.DataFrame(pred_topratings)\n",
    "    pred_topratings['index1'] = pred_topratings.index\n",
    "    pred_topratings['index1'] = pred_topratings['index1'].astype('int64')\n",
    "    pred_topratings = pd.merge(pred_topratings,movies[['movieId','title']],how = 'left',left_on ='index1' ,right_on = 'movieId')\n",
    "    del pred_topratings['index1']    \n",
    "    print (\"\\nTop\",n_movies,\"movies predicted for the user:\",uid,\" based on collaborative filtering\\n\")\n",
    "    return pred_topratings\n",
    "\n",
    "\n",
    "predmtrx = print_recommovies(uid=355,n_movies=10,pred_mat=A_hat,wpred_mat=W_pred)\n",
    "print (predmtrx)"
   ]
  },
  {
   "cell_type": "code",
   "execution_count": null,
   "metadata": {
    "collapsed": true
   },
   "outputs": [],
   "source": []
  }
 ],
 "metadata": {
  "kernelspec": {
   "display_name": "Python 3",
   "language": "python",
   "name": "python3"
  },
  "language_info": {
   "codemirror_mode": {
    "name": "ipython",
    "version": 3
   },
   "file_extension": ".py",
   "mimetype": "text/x-python",
   "name": "python",
   "nbconvert_exporter": "python",
   "pygments_lexer": "ipython3",
   "version": "3.7.1"
  },
  "toc": {
   "base_numbering": 1,
   "nav_menu": {},
   "number_sections": true,
   "sideBar": true,
   "skip_h1_title": false,
   "title_cell": "Table of Contents",
   "title_sidebar": "Contents",
   "toc_cell": false,
   "toc_position": {},
   "toc_section_display": true,
   "toc_window_display": false
  }
 },
 "nbformat": 4,
 "nbformat_minor": 2
}
